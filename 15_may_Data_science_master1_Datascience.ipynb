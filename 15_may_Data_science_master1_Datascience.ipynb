{
  "nbformat": 4,
  "nbformat_minor": 0,
  "metadata": {
    "colab": {
      "provenance": []
    },
    "kernelspec": {
      "name": "python3",
      "display_name": "Python 3"
    },
    "language_info": {
      "name": "python"
    }
  },
  "cells": [
    {
      "cell_type": "markdown",
      "source": [
        "# **<font color='green'>Data Science Master's 2.0**\n",
        "## Assignment 1-python\n",
        "\n",
        "\n",
        "## **<font color='green'>Aasif Majeed**"
      ],
      "metadata": {
        "id": "rppKNiPVE5Dv"
      }
    },
    {
      "cell_type": "markdown",
      "source": [
        "# Q1. Create one variable containing the following type of data:\n",
        "#    (i) string\n",
        "#    (ii) list\n",
        "#    (iii) float\n",
        "#    (iv) tuple\n",
        "\n",
        "```python\n",
        "# Define variables of different data types\n",
        "string_var = \"Hello, World!\"\n",
        "list_var = [1, 2, 3, 4, 5]\n",
        "float_var = 3.14\n",
        "tuple_var = (10, 20, 30)\n"
      ],
      "metadata": {
        "id": "3xOMpwCiFxhd"
      }
    },
    {
      "cell_type": "markdown",
      "source": [
        "# **Q2. Given are some following variables containing data:**\n",
        "\n",
        "(i) var1 = ‘ ‘\n",
        "\n",
        "(ii) var2 = ‘[ DS , ML , Python]’\n",
        "\n",
        "(iii) var3 = [ ‘DS’ , ’ML’ , ‘Python’ ]\n",
        "\n",
        "(iv) var4 = 1.\n",
        "\n",
        "What will be the data type of the above given variable.\n"
      ],
      "metadata": {
        "id": "QDVpc-D0F8z-"
      }
    },
    {
      "cell_type": "code",
      "source": [
        "\n",
        "# Data types of given variables\n",
        "\n",
        "var1_type = type(var1)  # <class 'str'>\n",
        "var2_type = type(var2)  # <class 'str'>\n",
        "var3_type = type(var3)  # <class 'list'>\n",
        "var4_type = type(var4)  # <class 'float'>"
      ],
      "metadata": {
        "id": "Y4n3Mf6zE0jI"
      },
      "execution_count": 7,
      "outputs": []
    },
    {
      "cell_type": "markdown",
      "source": [
        "## **Q3. Explain the use of the following operators using an example:**\n",
        "\n",
        "(i) /\n",
        "\n",
        "(ii) %\n",
        "\n",
        "(iii) //\n",
        "\n",
        "(iv) **"
      ],
      "metadata": {
        "id": "4FqBTfN0FyPc"
      }
    },
    {
      "cell_type": "code",
      "source": [
        "# Example of operators\n",
        "# Division (/) - normal division\n",
        "result_div = 10 / 3  # result_div = 3.3333333333333335\n",
        "\n",
        "# Modulus (%) - returns the remainder of the division\n",
        "result_mod = 10 % 3  # result_mod = 1\n",
        "\n",
        "# Floor Division (//) - returns the integer division result, discarding any fractional part\n",
        "result_floor_div = 10 // 3  # result_floor_div = 3\n",
        "\n",
        "# Exponentiation (**) - raises a number to the power of another number\n",
        "result_power = 2 ** 3  # result_power = 8\n"
      ],
      "metadata": {
        "id": "8JZhx50qFycN"
      },
      "execution_count": 8,
      "outputs": []
    },
    {
      "cell_type": "markdown",
      "source": [
        "## **Q4. Create a list of length 10 of your choice containing multiple types of data. Using a for loop, print the element and its data type.**\n"
      ],
      "metadata": {
        "id": "_hFOL0-4FyVJ"
      }
    },
    {
      "cell_type": "code",
      "source": [
        "# Create a list\n",
        "my_list = [1, 'apple', 3.14, True, [5, 6], {'name': 'John'}, (7, 8), None, 'banana', 10]\n",
        "\n",
        "# Print elements and their data types\n",
        "for element in my_list:\n",
        "    print(f\"Element: {element}, Data type: {type(element)}\")\n"
      ],
      "metadata": {
        "colab": {
          "base_uri": "https://localhost:8080/"
        },
        "id": "aiG7RVXAHqex",
        "outputId": "f8e5f289-534c-41e7-c288-8f37c57da708"
      },
      "execution_count": 9,
      "outputs": [
        {
          "output_type": "stream",
          "name": "stdout",
          "text": [
            "Element: 1, Data type: <class 'int'>\n",
            "Element: apple, Data type: <class 'str'>\n",
            "Element: 3.14, Data type: <class 'float'>\n",
            "Element: True, Data type: <class 'bool'>\n",
            "Element: [5, 6], Data type: <class 'list'>\n",
            "Element: {'name': 'John'}, Data type: <class 'dict'>\n",
            "Element: (7, 8), Data type: <class 'tuple'>\n",
            "Element: None, Data type: <class 'NoneType'>\n",
            "Element: banana, Data type: <class 'str'>\n",
            "Element: 10, Data type: <class 'int'>\n"
          ]
        }
      ]
    },
    {
      "cell_type": "markdown",
      "source": [
        "## **Q5. Using a while loop, verify if the number A is purely divisible by number B and if so, then how many times it can be divisible.**"
      ],
      "metadata": {
        "id": "_g72hQQgFyi1"
      }
    },
    {
      "cell_type": "code",
      "source": [
        "# Initialize numbers\n",
        "A = 30\n",
        "B = 3\n",
        "count = 0\n",
        "\n",
        "# Verify divisibility and count\n",
        "while A % B == 0:\n",
        "    A /= B\n",
        "    count += 1\n",
        "\n",
        "print(f\"A is divisible by B {count} times.\")\n"
      ],
      "metadata": {
        "colab": {
          "base_uri": "https://localhost:8080/"
        },
        "id": "E-yhzev2FypI",
        "outputId": "f7d12874-af61-4406-e165-0b052a589ad7"
      },
      "execution_count": 10,
      "outputs": [
        {
          "output_type": "stream",
          "name": "stdout",
          "text": [
            "A is divisible by B 1 times.\n"
          ]
        }
      ]
    },
    {
      "cell_type": "markdown",
      "source": [
        "## **Q6. Create a list containing 25 int type data. Using a for loop and if-else condition, print if the element is divisible by 3 or not.**"
      ],
      "metadata": {
        "id": "oGVMAoGXFyvO"
      }
    },
    {
      "cell_type": "code",
      "source": [
        "# Create a list of 25 int type data\n",
        "int_list = list(range(1, 26))\n",
        "\n",
        "# Print if element is divisible by 3 or not\n",
        "for num in int_list:\n",
        "    if num % 3 == 0:\n",
        "        print(f\"{num} is divisible by 3.\")\n",
        "    else:\n",
        "        print(f\"{num} is not divisible by 3.\")\n"
      ],
      "metadata": {
        "colab": {
          "base_uri": "https://localhost:8080/"
        },
        "id": "NLXIsJ1wFy0q",
        "outputId": "149d3743-53af-4ebe-c609-7916a0db17ae"
      },
      "execution_count": 11,
      "outputs": [
        {
          "output_type": "stream",
          "name": "stdout",
          "text": [
            "1 is not divisible by 3.\n",
            "2 is not divisible by 3.\n",
            "3 is divisible by 3.\n",
            "4 is not divisible by 3.\n",
            "5 is not divisible by 3.\n",
            "6 is divisible by 3.\n",
            "7 is not divisible by 3.\n",
            "8 is not divisible by 3.\n",
            "9 is divisible by 3.\n",
            "10 is not divisible by 3.\n",
            "11 is not divisible by 3.\n",
            "12 is divisible by 3.\n",
            "13 is not divisible by 3.\n",
            "14 is not divisible by 3.\n",
            "15 is divisible by 3.\n",
            "16 is not divisible by 3.\n",
            "17 is not divisible by 3.\n",
            "18 is divisible by 3.\n",
            "19 is not divisible by 3.\n",
            "20 is not divisible by 3.\n",
            "21 is divisible by 3.\n",
            "22 is not divisible by 3.\n",
            "23 is not divisible by 3.\n",
            "24 is divisible by 3.\n",
            "25 is not divisible by 3.\n"
          ]
        }
      ]
    },
    {
      "cell_type": "markdown",
      "source": [
        "## **Q7. What do you understand about mutable and immutable data types? Give examples for both showing this property.**"
      ],
      "metadata": {
        "id": "gxiBmm3tFy6Y"
      }
    },
    {
      "cell_type": "markdown",
      "source": [
        "### Mutable data types can be changed after they are created, while immutable data types cannot be changed after they are created.\n",
        "\n",
        "### Examples of mutable data types: lists, dictionaries"
      ],
      "metadata": {
        "id": "bBSBENnSIGaZ"
      }
    },
    {
      "cell_type": "code",
      "source": [
        "my_list = [1, 2, 3]\n",
        "my_list[0] = 10  # Change the first element to 10\n",
        "print(my_list)   # Output: [10, 2, 3]\n",
        "\n",
        "my_dict = {'a': 1, 'b': 2}\n",
        "my_dict['a'] = 100  # Change the value associated with key 'a' to 100\n",
        "print(my_dict)      # Output: {'a': 100, 'b': 2}\n"
      ],
      "metadata": {
        "colab": {
          "base_uri": "https://localhost:8080/"
        },
        "id": "CVzzcVw2Fy_2",
        "outputId": "36168e82-a0dd-43b2-ad0e-d1e10238ef3b"
      },
      "execution_count": 12,
      "outputs": [
        {
          "output_type": "stream",
          "name": "stdout",
          "text": [
            "[10, 2, 3]\n",
            "{'a': 100, 'b': 2}\n"
          ]
        }
      ]
    },
    {
      "cell_type": "markdown",
      "source": [
        "### Examples of immutable data types: strings, tuples"
      ],
      "metadata": {
        "id": "DtrAMmEYFzFv"
      }
    },
    {
      "cell_type": "code",
      "source": [
        "my_str = \"hello\"\n",
        "# Attempting to change a character in a string will raise an error\n",
        "# my_str[0] = 'H'  # TypeError: 'str' object does not support item assignment\n",
        "\n",
        "my_tuple = (1, 2, 3)\n",
        "# Attempting to change a value in a tuple will raise an error\n",
        "# my_tuple[0] = 10  # TypeError: 'tuple' object does not support item assignment\n"
      ],
      "metadata": {
        "id": "D3dU9MaDFzK-"
      },
      "execution_count": 13,
      "outputs": []
    },
    {
      "cell_type": "markdown",
      "source": [],
      "metadata": {
        "id": "dCNOBCbbFzQI"
      }
    },
    {
      "cell_type": "code",
      "source": [],
      "metadata": {
        "id": "q7tK5YvOFzVr"
      },
      "execution_count": null,
      "outputs": []
    },
    {
      "cell_type": "code",
      "source": [],
      "metadata": {
        "id": "i0A2QjlNFzfs"
      },
      "execution_count": null,
      "outputs": []
    }
  ]
}